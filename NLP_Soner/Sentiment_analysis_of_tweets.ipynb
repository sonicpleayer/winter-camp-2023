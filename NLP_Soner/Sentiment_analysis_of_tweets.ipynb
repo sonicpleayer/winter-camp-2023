{
 "cells": [
  {
   "cell_type": "code",
   "execution_count": 1,
   "id": "8f5ff8b1",
   "metadata": {},
   "outputs": [],
   "source": [
    "import pandas as pd\n",
    "import nltk\n",
    "import torch\n",
    "import numpy as np \n",
    "import torch.nn as nn\n",
    "import torch.nn.functional as F\n",
    "from nltk.corpus import stopwords \n",
    "from collections import Counter\n",
    "import string\n",
    "import re\n",
    "import seaborn as sns\n",
    "from tqdm import tqdm\n",
    "import matplotlib.pyplot as plt\n",
    "from torch.utils.data import TensorDataset, DataLoader\n",
    "from sklearn.model_selection import train_test_split\n",
    "from nltk.tokenize import word_tokenize\n"
   ]
  },
  {
   "cell_type": "code",
   "execution_count": 2,
   "id": "3580e70b",
   "metadata": {},
   "outputs": [],
   "source": [
    "csv = pd.read_csv(\"labeled_data.csv\")\n",
    "df = pd.DataFrame(csv )"
   ]
  },
  {
   "cell_type": "code",
   "execution_count": 3,
   "id": "93fc1540",
   "metadata": {},
   "outputs": [
    {
     "data": {
      "text/plain": [
       "device(type='mps')"
      ]
     },
     "execution_count": 3,
     "metadata": {},
     "output_type": "execute_result"
    }
   ],
   "source": [
    "device = torch.device(\"mps\")\n",
    "device"
   ]
  },
  {
   "cell_type": "code",
   "execution_count": 4,
   "id": "f74807fa",
   "metadata": {},
   "outputs": [],
   "source": [
    "df.drop('Unnamed: 0',axis=1,inplace=True)"
   ]
  },
  {
   "cell_type": "code",
   "execution_count": 5,
   "id": "9c49e9e9",
   "metadata": {},
   "outputs": [
    {
     "data": {
      "text/plain": [
       "0        !!! RT @mayasolovely: As a woman you shouldn't...\n",
       "1        !!!!! RT @mleew17: boy dats cold...tyga dwn ba...\n",
       "2        !!!!!!! RT @UrKindOfBrand Dawg!!!! RT @80sbaby...\n",
       "3        !!!!!!!!! RT @C_G_Anderson: @viva_based she lo...\n",
       "4        !!!!!!!!!!!!! RT @ShenikaRoberts: The shit you...\n",
       "                               ...                        \n",
       "24778    you's a muthaf***in lie &#8220;@LifeAsKing: @2...\n",
       "24779    you've gone and broke the wrong heart baby, an...\n",
       "24780    young buck wanna eat!!.. dat nigguh like I ain...\n",
       "24781                youu got wild bitches tellin you lies\n",
       "24782    ~~Ruffled | Ntac Eileen Dahlia - Beautiful col...\n",
       "Name: tweet, Length: 24783, dtype: object"
      ]
     },
     "execution_count": 5,
     "metadata": {},
     "output_type": "execute_result"
    }
   ],
   "source": [
    "df[\"tweet\"]"
   ]
  },
  {
   "cell_type": "code",
   "execution_count": 6,
   "id": "3565d64f",
   "metadata": {},
   "outputs": [
    {
     "data": {
      "text/html": [
       "<div>\n",
       "<style scoped>\n",
       "    .dataframe tbody tr th:only-of-type {\n",
       "        vertical-align: middle;\n",
       "    }\n",
       "\n",
       "    .dataframe tbody tr th {\n",
       "        vertical-align: top;\n",
       "    }\n",
       "\n",
       "    .dataframe thead th {\n",
       "        text-align: right;\n",
       "    }\n",
       "</style>\n",
       "<table border=\"1\" class=\"dataframe\">\n",
       "  <thead>\n",
       "    <tr style=\"text-align: right;\">\n",
       "      <th></th>\n",
       "      <th>count</th>\n",
       "      <th>hate_speech</th>\n",
       "      <th>offensive_language</th>\n",
       "      <th>neither</th>\n",
       "      <th>class</th>\n",
       "      <th>tweet</th>\n",
       "    </tr>\n",
       "  </thead>\n",
       "  <tbody>\n",
       "    <tr>\n",
       "      <th>5</th>\n",
       "      <td>3</td>\n",
       "      <td>1</td>\n",
       "      <td>2</td>\n",
       "      <td>0</td>\n",
       "      <td>1</td>\n",
       "      <td>!!!!!!!!!!!!!!!!!!\"@T_Madison_x: The shit just...</td>\n",
       "    </tr>\n",
       "    <tr>\n",
       "      <th>9</th>\n",
       "      <td>3</td>\n",
       "      <td>1</td>\n",
       "      <td>2</td>\n",
       "      <td>0</td>\n",
       "      <td>1</td>\n",
       "      <td>\" @rhythmixx_ :hobbies include: fighting Maria...</td>\n",
       "    </tr>\n",
       "    <tr>\n",
       "      <th>14</th>\n",
       "      <td>3</td>\n",
       "      <td>1</td>\n",
       "      <td>2</td>\n",
       "      <td>0</td>\n",
       "      <td>1</td>\n",
       "      <td>\" bitch get up off me \"</td>\n",
       "    </tr>\n",
       "    <tr>\n",
       "      <th>17</th>\n",
       "      <td>3</td>\n",
       "      <td>1</td>\n",
       "      <td>2</td>\n",
       "      <td>0</td>\n",
       "      <td>1</td>\n",
       "      <td>\" bitch who do you love \"</td>\n",
       "    </tr>\n",
       "    <tr>\n",
       "      <th>49</th>\n",
       "      <td>3</td>\n",
       "      <td>1</td>\n",
       "      <td>2</td>\n",
       "      <td>0</td>\n",
       "      <td>1</td>\n",
       "      <td>\" these hoes like niggas that spend money not ...</td>\n",
       "    </tr>\n",
       "    <tr>\n",
       "      <th>...</th>\n",
       "      <td>...</td>\n",
       "      <td>...</td>\n",
       "      <td>...</td>\n",
       "      <td>...</td>\n",
       "      <td>...</td>\n",
       "      <td>...</td>\n",
       "    </tr>\n",
       "    <tr>\n",
       "      <th>24753</th>\n",
       "      <td>3</td>\n",
       "      <td>1</td>\n",
       "      <td>2</td>\n",
       "      <td>0</td>\n",
       "      <td>1</td>\n",
       "      <td>you ain't gotta be a dyke to like hoes</td>\n",
       "    </tr>\n",
       "    <tr>\n",
       "      <th>24762</th>\n",
       "      <td>3</td>\n",
       "      <td>1</td>\n",
       "      <td>2</td>\n",
       "      <td>0</td>\n",
       "      <td>1</td>\n",
       "      <td>you got niggas, and i got bitches.</td>\n",
       "    </tr>\n",
       "    <tr>\n",
       "      <th>24773</th>\n",
       "      <td>3</td>\n",
       "      <td>1</td>\n",
       "      <td>2</td>\n",
       "      <td>0</td>\n",
       "      <td>1</td>\n",
       "      <td>you niggers cheat on ya gf's? smh....</td>\n",
       "    </tr>\n",
       "    <tr>\n",
       "      <th>24776</th>\n",
       "      <td>3</td>\n",
       "      <td>3</td>\n",
       "      <td>0</td>\n",
       "      <td>0</td>\n",
       "      <td>0</td>\n",
       "      <td>you're all niggers</td>\n",
       "    </tr>\n",
       "    <tr>\n",
       "      <th>24777</th>\n",
       "      <td>3</td>\n",
       "      <td>2</td>\n",
       "      <td>1</td>\n",
       "      <td>0</td>\n",
       "      <td>0</td>\n",
       "      <td>you're such a retard i hope you get type 2 dia...</td>\n",
       "    </tr>\n",
       "  </tbody>\n",
       "</table>\n",
       "<p>4993 rows × 6 columns</p>\n",
       "</div>"
      ],
      "text/plain": [
       "       count  hate_speech  offensive_language  neither  class  \\\n",
       "5          3            1                   2        0      1   \n",
       "9          3            1                   2        0      1   \n",
       "14         3            1                   2        0      1   \n",
       "17         3            1                   2        0      1   \n",
       "49         3            1                   2        0      1   \n",
       "...      ...          ...                 ...      ...    ...   \n",
       "24753      3            1                   2        0      1   \n",
       "24762      3            1                   2        0      1   \n",
       "24773      3            1                   2        0      1   \n",
       "24776      3            3                   0        0      0   \n",
       "24777      3            2                   1        0      0   \n",
       "\n",
       "                                                   tweet  \n",
       "5      !!!!!!!!!!!!!!!!!!\"@T_Madison_x: The shit just...  \n",
       "9      \" @rhythmixx_ :hobbies include: fighting Maria...  \n",
       "14                               \" bitch get up off me \"  \n",
       "17                             \" bitch who do you love \"  \n",
       "49     \" these hoes like niggas that spend money not ...  \n",
       "...                                                  ...  \n",
       "24753             you ain't gotta be a dyke to like hoes  \n",
       "24762                 you got niggas, and i got bitches.  \n",
       "24773              you niggers cheat on ya gf's? smh....  \n",
       "24776                                 you're all niggers  \n",
       "24777  you're such a retard i hope you get type 2 dia...  \n",
       "\n",
       "[4993 rows x 6 columns]"
      ]
     },
     "execution_count": 6,
     "metadata": {},
     "output_type": "execute_result"
    }
   ],
   "source": [
    "df[df[\"hate_speech\"]!=0] "
   ]
  },
  {
   "cell_type": "code",
   "execution_count": 7,
   "id": "3f2b3435",
   "metadata": {},
   "outputs": [
    {
     "data": {
      "text/plain": [
       "1    19190\n",
       "2     4163\n",
       "0     1430\n",
       "Name: class, dtype: int64"
      ]
     },
     "execution_count": 7,
     "metadata": {},
     "output_type": "execute_result"
    }
   ],
   "source": [
    "df[\"class\"].value_counts()"
   ]
  },
  {
   "cell_type": "code",
   "execution_count": 8,
   "id": "3b44a714",
   "metadata": {},
   "outputs": [
    {
     "data": {
      "text/plain": [
       "<AxesSubplot: xlabel='class', ylabel='count'>"
      ]
     },
     "execution_count": 8,
     "metadata": {},
     "output_type": "execute_result"
    },
    {
     "data": {
      "image/png": "[encoded data removed]",
      "text/plain": [
       "<Figure size 640x480 with 1 Axes>"
      ]
     },
     "metadata": {},
     "output_type": "display_data"
    }
   ],
   "source": [
    "sns.countplot(data=df, x=\"class\")"
   ]
  },
  {
   "cell_type": "markdown",
   "id": "92f4070c",
   "metadata": {},
   "source": [
    "    < Our data is imbalanced to see the difference we will observe both imbalanced and the balanced results>"
   ]
  },
  {
   "cell_type": "markdown",
   "id": "92148acd",
   "metadata": {},
   "source": [
    "# Train Test Splitting"
   ]
  },
  {
   "cell_type": "code",
   "execution_count": 9,
   "id": "0bb14c8e",
   "metadata": {},
   "outputs": [],
   "source": [
    "'''\n",
    "\n",
    "X,y = df['tweet'].values,df['class'].values\n",
    "x_train,x_test,y_train,y_test = train_test_split(X,y,test_size=0.2 ,random_state=10)\n",
    "print(f'shape of train data is {x_train.shape}')\n",
    "print(f'shape of test data is {x_test.shape}')\n",
    "'''\n",
    "clean_df = df.drop(['count','hate_speech', 'offensive_language', 'neither'],axis=1)"
   ]
  },
  {
   "cell_type": "code",
   "execution_count": 10,
   "id": "66df6d26",
   "metadata": {},
   "outputs": [
    {
     "data": {
      "text/plain": [
       "pandas.core.frame.DataFrame"
      ]
     },
     "execution_count": 10,
     "metadata": {},
     "output_type": "execute_result"
    }
   ],
   "source": [
    "type(clean_df)"
   ]
  },
  {
   "cell_type": "markdown",
   "id": "3df3dd9d",
   "metadata": {},
   "source": [
    "# Preprocessing of tweets"
   ]
  },
  {
   "cell_type": "markdown",
   "id": "28e5c645",
   "metadata": {},
   "source": [
    "## Removing link and Mentions & Tokenization\n"
   ]
  },
  {
   "cell_type": "code",
   "execution_count": 11,
   "id": "4da75428",
   "metadata": {},
   "outputs": [],
   "source": [
    "def remove_links_mentions(tweet):\n",
    "    link_re_pattern = \"https?:\\/\\/t.co/[\\w]+\"\n",
    "    mention_re_pattern = \"@\\w+\"\n",
    "    tweet = re.sub(link_re_pattern, \"\", tweet)\n",
    "    tweet = re.sub(mention_re_pattern, \"\", tweet)\n",
    "    return tweet.lower()"
   ]
  },
  {
   "cell_type": "code",
   "execution_count": 12,
   "id": "c8f88b5a",
   "metadata": {},
   "outputs": [
    {
     "data": {
      "text/plain": [
       "'...and jeb bush is third in the polls and losing donors. be fair and balance... . '"
      ]
     },
     "execution_count": 12,
     "metadata": {},
     "output_type": "execute_result"
    }
   ],
   "source": [
    "remove_links_mentions('...and Jeb Bush is third in the polls and losing donors. Be fair and balance...@karlrove @FoxNews. https://t.co/Ka2km3bua6')"
   ]
  },
  {
   "cell_type": "code",
   "execution_count": 13,
   "id": "5be181df",
   "metadata": {},
   "outputs": [
    {
     "data": {
      "text/plain": [
       "[(2,\n",
       "  ['!',\n",
       "   '!',\n",
       "   '!',\n",
       "   'rt',\n",
       "   ':',\n",
       "   'as',\n",
       "   'a',\n",
       "   'woman',\n",
       "   'you',\n",
       "   'should',\n",
       "   \"n't\",\n",
       "   'complain',\n",
       "   'about',\n",
       "   'cleaning',\n",
       "   'up',\n",
       "   'your',\n",
       "   'house',\n",
       "   '.',\n",
       "   '&',\n",
       "   'amp',\n",
       "   ';',\n",
       "   'as',\n",
       "   'a',\n",
       "   'man',\n",
       "   'you',\n",
       "   'should',\n",
       "   'always',\n",
       "   'take',\n",
       "   'the',\n",
       "   'trash',\n",
       "   'out',\n",
       "   '...']),\n",
       " (1,\n",
       "  ['!',\n",
       "   '!',\n",
       "   '!',\n",
       "   '!',\n",
       "   '!',\n",
       "   'rt',\n",
       "   ':',\n",
       "   'boy',\n",
       "   'dats',\n",
       "   'cold',\n",
       "   '...',\n",
       "   'tyga',\n",
       "   'dwn',\n",
       "   'bad',\n",
       "   'for',\n",
       "   'cuffin',\n",
       "   'dat',\n",
       "   'hoe',\n",
       "   'in',\n",
       "   'the',\n",
       "   '1st',\n",
       "   'place',\n",
       "   '!',\n",
       "   '!']),\n",
       " (1,\n",
       "  ['!',\n",
       "   '!',\n",
       "   '!',\n",
       "   '!',\n",
       "   '!',\n",
       "   '!',\n",
       "   '!',\n",
       "   'rt',\n",
       "   'dawg',\n",
       "   '!',\n",
       "   '!',\n",
       "   '!',\n",
       "   '!',\n",
       "   'rt',\n",
       "   ':',\n",
       "   'you',\n",
       "   'ever',\n",
       "   'fuck',\n",
       "   'a',\n",
       "   'bitch',\n",
       "   'and',\n",
       "   'she',\n",
       "   'start',\n",
       "   'to',\n",
       "   'cry',\n",
       "   '?',\n",
       "   'you',\n",
       "   'be',\n",
       "   'confused',\n",
       "   'as',\n",
       "   'shit'])]"
      ]
     },
     "execution_count": 13,
     "metadata": {},
     "output_type": "execute_result"
    }
   ],
   "source": [
    "clean_df = [(row['class'], word_tokenize(remove_links_mentions(row['tweet']))) for index, row in clean_df.iterrows()]\n",
    "clean_df[:3]"
   ]
  },
  {
   "cell_type": "markdown",
   "id": "e90cd884",
   "metadata": {},
   "source": [
    "## Creating Vocabulary"
   ]
  },
  {
   "cell_type": "code",
   "execution_count": 14,
   "id": "0dc435fa",
   "metadata": {},
   "outputs": [
    {
     "name": "stdout",
     "output_type": "stream",
     "text": [
      "32\n",
      "41\n",
      "53\n",
      "59\n",
      "107\n",
      "122\n",
      "124\n",
      "265\n",
      "281\n",
      "319\n",
      "=================\n",
      "319\n"
     ]
    }
   ],
   "source": [
    "max_len = 0\n",
    "for elem in clean_df:\n",
    "    \n",
    "    tmp = len(elem[1])\n",
    "    if max_len < tmp:\n",
    "        print(tmp)\n",
    "        max_len = tmp\n",
    "        \n",
    "print(\"=================\")\n",
    "for elem in clean_df:\n",
    "    \n",
    "    tmp = len(elem[1])\n",
    "    if 281 < tmp:\n",
    "        print(tmp)\n",
    "        max_len = tmp\n",
    "        \n"
   ]
  },
  {
   "cell_type": "markdown",
   "id": "3e606e4c",
   "metadata": {},
   "source": [
    "there is only one tweet which exceeds 281 token limit\n"
   ]
  },
  {
   "cell_type": "code",
   "execution_count": 15,
   "id": "e66fd115",
   "metadata": {},
   "outputs": [],
   "source": [
    "index2word = [\"<PAD>\", \"<SOS>\", \"<EOS>\"]\n",
    "\n",
    "for ds in [clean_df]:\n",
    "    for class_, tweet in ds:\n",
    "        for token in tweet:\n",
    "            if token not in index2word:\n",
    "                index2word.append(token)"
   ]
  },
  {
   "cell_type": "code",
   "execution_count": 16,
   "id": "9706a0f9",
   "metadata": {},
   "outputs": [
    {
     "data": {
      "text/plain": [
       "22328"
      ]
     },
     "execution_count": 16,
     "metadata": {},
     "output_type": "execute_result"
    }
   ],
   "source": [
    "len(index2word)"
   ]
  },
  {
   "cell_type": "code",
   "execution_count": 17,
   "id": "6f3f8917",
   "metadata": {},
   "outputs": [],
   "source": [
    "word2index = {token: idx for idx, token in enumerate(index2word)}"
   ]
  },
  {
   "cell_type": "code",
   "execution_count": 18,
   "id": "d412924a",
   "metadata": {},
   "outputs": [
    {
     "data": {
      "text/plain": [
       "3"
      ]
     },
     "execution_count": 18,
     "metadata": {},
     "output_type": "execute_result"
    }
   ],
   "source": [
    "word2index[\"!\"]"
   ]
  },
  {
   "cell_type": "code",
   "execution_count": 19,
   "id": "ee7a0e83",
   "metadata": {},
   "outputs": [
    {
     "data": {
      "text/plain": [
       "25"
      ]
     },
     "execution_count": 19,
     "metadata": {},
     "output_type": "execute_result"
    }
   ],
   "source": [
    "word2index[\"the\"]"
   ]
  },
  {
   "cell_type": "code",
   "execution_count": 20,
   "id": "26e5a098",
   "metadata": {},
   "outputs": [
    {
     "data": {
      "text/plain": [
       "141"
      ]
     },
     "execution_count": 20,
     "metadata": {},
     "output_type": "execute_result"
    }
   ],
   "source": [
    "word2index[\"nigga\"]"
   ]
  },
  {
   "cell_type": "code",
   "execution_count": 21,
   "id": "7bfd6120",
   "metadata": {},
   "outputs": [],
   "source": [
    "seq_length = 64"
   ]
  },
  {
   "cell_type": "code",
   "execution_count": 22,
   "id": "f2ef9a0c",
   "metadata": {},
   "outputs": [],
   "source": [
    "def encode_and_pad(tweet, length):\n",
    "    sos = [word2index[\"<SOS>\"]]\n",
    "    eos = [word2index[\"<EOS>\"]]\n",
    "    pad = [word2index[\"<PAD>\"]]\n",
    "\n",
    "    if len(tweet) < length - 2: # -2 for SOS and EOS\n",
    "        n_pads = length - 2 - len(tweet)\n",
    "        encoded = [word2index[w] for w in tweet]\n",
    "        return sos + encoded + eos + pad * n_pads \n",
    "    else: # tweet is longer than possible; truncating\n",
    "        encoded = [word2index[w] for w in tweet]\n",
    "        truncated = encoded[:length - 2]\n",
    "        return sos + truncated + eos"
   ]
  },
  {
   "cell_type": "code",
   "execution_count": 23,
   "id": "e99da772",
   "metadata": {},
   "outputs": [],
   "source": [
    "train_encoded = [(encode_and_pad(tweet, seq_length), label) for label, tweet in clean_df]"
   ]
  },
  {
   "cell_type": "code",
   "execution_count": 24,
   "id": "326800ff",
   "metadata": {},
   "outputs": [
    {
     "name": "stdout",
     "output_type": "stream",
     "text": [
      "([1, 3, 3, 3, 4, 5, 6, 7, 8, 9, 10, 11, 12, 13, 14, 15, 16, 17, 18, 19, 20, 21, 6, 7, 22, 9, 10, 23, 24, 25, 26, 27, 28, 2, 0, 0, 0, 0, 0, 0, 0, 0, 0, 0, 0, 0, 0, 0, 0, 0, 0, 0, 0, 0, 0, 0, 0, 0, 0, 0, 0, 0, 0, 0], 2)\n",
      "([1, 3, 3, 3, 3, 3, 4, 5, 29, 30, 31, 28, 32, 33, 34, 35, 36, 37, 38, 39, 25, 40, 41, 3, 3, 2, 0, 0, 0, 0, 0, 0, 0, 0, 0, 0, 0, 0, 0, 0, 0, 0, 0, 0, 0, 0, 0, 0, 0, 0, 0, 0, 0, 0, 0, 0, 0, 0, 0, 0, 0, 0, 0, 0], 1)\n",
      "([1, 3, 3, 3, 3, 3, 3, 3, 4, 42, 3, 3, 3, 3, 4, 5, 9, 43, 44, 7, 45, 46, 47, 48, 49, 50, 51, 9, 52, 53, 6, 54, 2, 0, 0, 0, 0, 0, 0, 0, 0, 0, 0, 0, 0, 0, 0, 0, 0, 0, 0, 0, 0, 0, 0, 0, 0, 0, 0, 0, 0, 0, 0, 0], 1)\n",
      "([1, 3, 3, 3, 3, 3, 3, 3, 3, 3, 4, 5, 47, 55, 56, 7, 57, 2, 0, 0, 0, 0, 0, 0, 0, 0, 0, 0, 0, 0, 0, 0, 0, 0, 0, 0, 0, 0, 0, 0, 0, 0, 0, 0, 0, 0, 0, 0, 0, 0, 0, 0, 0, 0, 0, 0, 0, 0, 0, 0, 0, 0, 0, 0], 1)\n",
      "([1, 3, 3, 3, 3, 3, 3, 3, 3, 3, 3, 3, 3, 3, 4, 5, 25, 54, 9, 58, 13, 59, 60, 52, 61, 62, 63, 60, 52, 64, 65, 25, 45, 66, 67, 63, 49, 68, 19, 69, 70, 21, 2, 0, 0, 0, 0, 0, 0, 0, 0, 0, 0, 0, 0, 0, 0, 0, 0, 0, 0, 0, 0, 0], 1)\n",
      "([1, 3, 3, 3, 3, 3, 3, 3, 3, 3, 3, 3, 3, 3, 3, 3, 3, 3, 3, 71, 5, 25, 54, 72, 73, 59, 74, 75, 9, 76, 77, 46, 78, 35, 79, 80, 81, 82, 83, 84, 3, 19, 69, 85, 21, 19, 69, 85, 21, 19, 69, 85, 21, 86, 2, 0, 0, 0, 0, 0, 0, 0, 0, 0], 1)\n",
      "([1, 3, 3, 3, 3, 3, 3, 71, 5, 87, 88, 89, 72, 90, 15, 46, 91, 92, 93, 45, 74, 87, 94, 95, 96, 54, 97, 92, 3, 86, 2, 0, 0, 0, 0, 0, 0, 0, 0, 0, 0, 0, 0, 0, 0, 0, 0, 0, 0, 0, 0, 0, 0, 0, 0, 0, 0, 0, 0, 0, 0, 0, 0, 0], 1)\n",
      "([1, 3, 3, 3, 3, 19, 69, 98, 21, 5, 99, 87, 100, 101, 102, 9, 103, 104, 105, 35, 106, 107, 108, 3, 3, 19, 69, 109, 21, 2, 0, 0, 0, 0, 0, 0, 0, 0, 0, 0, 0, 0, 0, 0, 0, 0, 0, 0, 0, 0, 0, 0, 0, 0, 0, 0, 0, 0, 0, 0, 0, 0, 0, 0], 1)\n",
      "([1, 71, 19, 20, 21, 9, 60, 89, 110, 68, 45, 111, 19, 20, 21, 112, 113, 71, 2, 0, 0, 0, 0, 0, 0, 0, 0, 0, 0, 0, 0, 0, 0, 0, 0, 0, 0, 0, 0, 0, 0, 0, 0, 0, 0, 0, 0, 0, 0, 0, 0, 0, 0, 0, 0, 0, 0, 0, 0, 0, 0, 0, 0, 0], 1)\n",
      "([1, 71, 5, 114, 115, 5, 116, 117, 86, 45, 2, 0, 0, 0, 0, 0, 0, 0, 0, 0, 0, 0, 0, 0, 0, 0, 0, 0, 0, 0, 0, 0, 0, 0, 0, 0, 0, 0, 0, 0, 0, 0, 0, 0, 0, 0, 0, 0, 0, 0, 0, 0, 0, 0, 0, 0, 0, 0, 0, 0, 0, 0, 0, 0], 1)\n",
      "([1, 71, 118, 119, 7, 45, 47, 120, 121, 71, 122, 87, 123, 124, 7, 125, 56, 126, 18, 127, 2, 0, 0, 0, 0, 0, 0, 0, 0, 0, 0, 0, 0, 0, 0, 0, 0, 0, 0, 0, 0, 0, 0, 0, 0, 0, 0, 0, 0, 0, 0, 0, 0, 0, 0, 0, 0, 0, 0, 0, 0, 0, 0, 0], 1)\n",
      "([1, 71, 128, 129, 45, 130, 129, 131, 71, 2, 0, 0, 0, 0, 0, 0, 0, 0, 0, 0, 0, 0, 0, 0, 0, 0, 0, 0, 0, 0, 0, 0, 0, 0, 0, 0, 0, 0, 0, 0, 0, 0, 0, 0, 0, 0, 0, 0, 0, 0, 0, 0, 0, 0, 0, 0, 0, 0, 0, 0, 0, 0, 0, 0], 1)\n",
      "([1, 71, 76, 84, 113, 132, 133, 134, 51, 71, 135, 28, 136, 92, 137, 2, 0, 0, 0, 0, 0, 0, 0, 0, 0, 0, 0, 0, 0, 0, 0, 0, 0, 0, 0, 0, 0, 0, 0, 0, 0, 0, 0, 0, 0, 0, 0, 0, 0, 0, 0, 0, 0, 0, 0, 0, 0, 0, 0, 0, 0, 0, 0, 0], 1)\n",
      "([1, 71, 34, 104, 119, 25, 138, 139, 113, 87, 56, 71, 2, 0, 0, 0, 0, 0, 0, 0, 0, 0, 0, 0, 0, 0, 0, 0, 0, 0, 0, 0, 0, 0, 0, 0, 0, 0, 0, 0, 0, 0, 0, 0, 0, 0, 0, 0, 0, 0, 0, 0, 0, 0, 0, 0, 0, 0, 0, 0, 0, 0, 0, 0], 1)\n",
      "([1, 71, 45, 110, 15, 140, 59, 71, 2, 0, 0, 0, 0, 0, 0, 0, 0, 0, 0, 0, 0, 0, 0, 0, 0, 0, 0, 0, 0, 0, 0, 0, 0, 0, 0, 0, 0, 0, 0, 0, 0, 0, 0, 0, 0, 0, 0, 0, 0, 0, 0, 0, 0, 0, 0, 0, 0, 0, 0, 0, 0, 0, 0, 0], 1)\n",
      "([1, 71, 45, 141, 142, 59, 83, 63, 71, 2, 0, 0, 0, 0, 0, 0, 0, 0, 0, 0, 0, 0, 0, 0, 0, 0, 0, 0, 0, 0, 0, 0, 0, 0, 0, 0, 0, 0, 0, 0, 0, 0, 0, 0, 0, 0, 0, 0, 0, 0, 0, 0, 0, 0, 0, 0, 0, 0, 0, 0, 0, 0, 0, 0], 1)\n",
      "([1, 71, 45, 143, 144, 71, 2, 0, 0, 0, 0, 0, 0, 0, 0, 0, 0, 0, 0, 0, 0, 0, 0, 0, 0, 0, 0, 0, 0, 0, 0, 0, 0, 0, 0, 0, 0, 0, 0, 0, 0, 0, 0, 0, 0, 0, 0, 0, 0, 0, 0, 0, 0, 0, 0, 0, 0, 0, 0, 0, 0, 0, 0, 0], 1)\n",
      "([1, 71, 45, 66, 145, 9, 146, 71, 2, 0, 0, 0, 0, 0, 0, 0, 0, 0, 0, 0, 0, 0, 0, 0, 0, 0, 0, 0, 0, 0, 0, 0, 0, 0, 0, 0, 0, 0, 0, 0, 0, 0, 0, 0, 0, 0, 0, 0, 0, 0, 0, 0, 0, 0, 0, 0, 0, 0, 0, 0, 0, 0, 0, 0], 1)\n",
      "([1, 71, 104, 110, 147, 140, 148, 149, 71, 2, 0, 0, 0, 0, 0, 0, 0, 0, 0, 0, 0, 0, 0, 0, 0, 0, 0, 0, 0, 0, 0, 0, 0, 0, 0, 0, 0, 0, 0, 0, 0, 0, 0, 0, 0, 0, 0, 0, 0, 0, 0, 0, 0, 0, 0, 0, 0, 0, 0, 0, 0, 0, 0, 0], 1)\n",
      "([1, 71, 150, 151, 19, 20, 21, 7, 34, 45, 71, 2, 0, 0, 0, 0, 0, 0, 0, 0, 0, 0, 0, 0, 0, 0, 0, 0, 0, 0, 0, 0, 0, 0, 0, 0, 0, 0, 0, 0, 0, 0, 0, 0, 0, 0, 0, 0, 0, 0, 0, 0, 0, 0, 0, 0, 0, 0, 0, 0, 0, 0, 0, 0], 1)\n"
     ]
    }
   ],
   "source": [
    "for i in train_encoded[:20]:\n",
    "    print(i)"
   ]
  },
  {
   "cell_type": "code",
   "execution_count": 25,
   "id": "0011a949",
   "metadata": {},
   "outputs": [],
   "source": [
    "X = np.array([elem[0] for elem in train_encoded])\n",
    "y = np.array([elem[1] for elem in train_encoded])\n",
    "train_x,test_x,train_y,test_y = train_test_split(X,y,test_size=0.2 ,random_state=10)\n"
   ]
  },
  {
   "cell_type": "code",
   "execution_count": 26,
   "id": "727d8570",
   "metadata": {},
   "outputs": [],
   "source": [
    "batch_size = 64\n",
    "\n",
    "\n",
    "\n",
    "train_ds = TensorDataset(torch.from_numpy(train_x), torch.from_numpy(train_y))\n",
    "test_ds = TensorDataset(torch.from_numpy(test_x), torch.from_numpy(test_y))\n",
    "\n",
    "\n",
    "train_dl = DataLoader(train_ds, shuffle=True, batch_size=batch_size, drop_last=True)\n",
    "test_dl = DataLoader(test_ds, shuffle=True, batch_size=batch_size, drop_last=True)"
   ]
  },
  {
   "cell_type": "code",
   "execution_count": 27,
   "id": "f1ac3bf3",
   "metadata": {},
   "outputs": [],
   "source": [
    "class BiLSTM_SentimentAnalysis(torch.nn.Module) :\n",
    "    def __init__(self, vocab_size, embedding_dim, hidden_dim, dropout) :\n",
    "        super().__init__()\n",
    "\n",
    "        # The embedding layer takes the vocab size and the embeddings size as input\n",
    "        # The embeddings size is up to you to decide, but common sizes are between 50 and 100.\n",
    "        self.embedding = nn.Embedding(vocab_size, embedding_dim, padding_idx=0)\n",
    "        self.hidden_dim = hidden_dim\n",
    "\n",
    "        # The LSTM layer takes in the the embedding size and the hidden vector size.\n",
    "        # The hidden dimension is up to you to decide, but common values are 32, 64, 128\n",
    "        self.lstm = nn.LSTM(embedding_dim, hidden_dim, batch_first=True)\n",
    "        #self.lstm = nn.LSTM(embedding_dim, hidden_dim, num_layers=1, bidirectional=True)\n",
    "\n",
    "        # We use dropout before the final layer to improve with regularization\n",
    "        self.dropout = nn.Dropout(dropout)\n",
    "\n",
    "        # The fully-connected layer takes in the hidden dim of the LSTM and\n",
    "        #  outputs a a 3x1 vector of the class scores.\n",
    "        self.fc = nn.Linear(hidden_dim, 3)\n",
    "\n",
    "    def forward(self, x, hidden):\n",
    "        \"\"\"\n",
    "        The forward method takes in the input and the previous hidden state \n",
    "        \"\"\"\n",
    "\n",
    "        # The input is transformed to embeddings by passing it to the embedding layer\n",
    "        embs = self.embedding(x)\n",
    "\n",
    "        # The embedded inputs are fed to the LSTM alongside the previous hidden state\n",
    "        out, hidden = self.lstm(embs, hidden)\n",
    "\n",
    "        # Dropout is applied to the output and fed to the FC layer\n",
    "        out = self.dropout(out)\n",
    "        out = self.fc(out)\n",
    "\n",
    "        # We extract the scores for the final hidden state since it is the one that matters.\n",
    "        out = out[:, -1]\n",
    "        return out, hidden\n",
    "    \n",
    "    def init_hidden(self,batch_size):\n",
    "        return (torch.zeros(1,batch_size,32 ), torch.zeros(1,batch_size,32))"
   ]
  },
  {
   "cell_type": "code",
   "execution_count": null,
   "id": "df227bac",
   "metadata": {},
   "outputs": [],
   "source": []
  },
  {
   "cell_type": "code",
   "execution_count": 28,
   "id": "d3d751d6",
   "metadata": {},
   "outputs": [],
   "source": [
    "model = BiLSTM_SentimentAnalysis(len(word2index), 64, 32, 0.2)\n",
    "model = model.to(device)"
   ]
  },
  {
   "cell_type": "code",
   "execution_count": 29,
   "id": "92390687",
   "metadata": {},
   "outputs": [],
   "source": [
    "criterion = nn.CrossEntropyLoss()\n",
    "optimizer = torch.optim.Adam(model.parameters(), lr = 3e-4)\n"
   ]
  },
  {
   "cell_type": "code",
   "execution_count": 30,
   "id": "329e22b4",
   "metadata": {},
   "outputs": [
    {
     "name": "stdout",
     "output_type": "stream",
     "text": [
      "64\n"
     ]
    }
   ],
   "source": [
    "for batch_idx, batch in enumerate(train_dl):\n",
    "    print(len(batch[1]))\n",
    "    break"
   ]
  },
  {
   "cell_type": "code",
   "execution_count": 36,
   "id": "e74f45ca",
   "metadata": {},
   "outputs": [
    {
     "name": "stdout",
     "output_type": "stream",
     "text": [
      "Epoch 1\n",
      "Epoch 1 Average Loss: 0.6416\n",
      "Epoch 2\n",
      "Epoch 2 Average Loss: 0.6425\n",
      "Epoch 3\n",
      "Epoch 3 Average Loss: 0.6441\n",
      "Epoch 4\n",
      "Epoch 4 Average Loss: 0.6423\n",
      "Epoch 5\n",
      "Epoch 5 Average Loss: 0.6434\n",
      "Epoch 6\n",
      "Epoch 6 Average Loss: 0.6435\n",
      "Epoch 7\n",
      "Epoch 7 Average Loss: 0.6436\n",
      "Epoch 8\n",
      "Epoch 8 Average Loss: 0.6452\n",
      "Epoch 9\n",
      "Epoch 9 Average Loss: 0.6440\n",
      "Epoch 10\n",
      "Epoch 10 Average Loss: 0.6439\n",
      "Epoch 11\n",
      "Epoch 11 Average Loss: 0.6431\n",
      "Epoch 12\n",
      "Epoch 12 Average Loss: 0.6421\n",
      "Epoch 13\n",
      "Epoch 13 Average Loss: 0.6434\n",
      "Epoch 14\n",
      "Epoch 14 Average Loss: 0.6434\n",
      "Epoch 15\n",
      "Epoch 15 Average Loss: 0.6493\n",
      "Epoch 16\n",
      "Epoch 16 Average Loss: 0.6580\n",
      "Epoch 17\n",
      "Epoch 17 Average Loss: 0.6615\n",
      "Epoch 18\n",
      "Epoch 18 Average Loss: 0.6617\n",
      "Epoch 19\n",
      "Epoch 19 Average Loss: 0.6618\n",
      "Epoch 20\n",
      "Epoch 20 Average Loss: 0.6615\n",
      "Epoch 21\n",
      "Epoch 21 Average Loss: 0.6614\n",
      "Epoch 22\n",
      "Epoch 22 Average Loss: 0.6610\n",
      "Epoch 23\n",
      "Epoch 23 Average Loss: 0.6610\n",
      "Epoch 24\n",
      "Epoch 24 Average Loss: 0.6611\n",
      "Epoch 25\n",
      "Epoch 25 Average Loss: 0.6611\n",
      "Epoch 26\n",
      "Epoch 26 Average Loss: 0.6613\n",
      "Epoch 27\n",
      "Epoch 27 Average Loss: 0.6616\n",
      "Epoch 28\n",
      "Epoch 28 Average Loss: 0.6610\n",
      "Epoch 29\n",
      "Epoch 29 Average Loss: 0.6531\n",
      "Epoch 30\n",
      "Epoch 30 Average Loss: 0.6464\n",
      "Epoch 31\n",
      "Epoch 31 Average Loss: 0.6453\n",
      "Epoch 32\n",
      "Epoch 32 Average Loss: 0.6458\n",
      "Epoch 33\n",
      "Epoch 33 Average Loss: 0.6450\n",
      "Epoch 34\n",
      "Epoch 34 Average Loss: 0.6458\n",
      "Epoch 35\n",
      "Epoch 35 Average Loss: 0.6457\n",
      "Epoch 36\n",
      "Epoch 36 Average Loss: 0.6460\n",
      "Epoch 37\n",
      "Epoch 37 Average Loss: 0.6459\n",
      "Epoch 38\n",
      "Epoch 38 Average Loss: 0.6476\n",
      "Epoch 39\n",
      "Epoch 39 Average Loss: 0.6478\n",
      "Epoch 40\n",
      "Epoch 40 Average Loss: 0.6460\n",
      "Epoch 41\n",
      "Epoch 41 Average Loss: 0.6460\n",
      "Epoch 42\n",
      "Epoch 42 Average Loss: 0.6445\n",
      "Epoch 43\n",
      "Epoch 43 Average Loss: 0.6453\n",
      "Epoch 44\n",
      "Epoch 44 Average Loss: 0.6441\n",
      "Epoch 45\n",
      "Epoch 45 Average Loss: 0.6435\n",
      "Epoch 46\n",
      "Epoch 46 Average Loss: 0.6435\n",
      "Epoch 47\n",
      "Epoch 47 Average Loss: 0.6431\n",
      "Epoch 48\n",
      "Epoch 48 Average Loss: 0.6442\n",
      "Epoch 49\n",
      "Epoch 49 Average Loss: 0.6423\n",
      "Epoch 50\n",
      "Epoch 50 Average Loss: 0.6436\n"
     ]
    }
   ],
   "source": [
    "epochs = 50\n",
    "losses = []\n",
    "i = 0\n",
    "for e in range(epochs):\n",
    "    i += 1\n",
    "    epoch_loss = 0.0\n",
    "    print(\"Epoch {}\".format(i))\n",
    "    h0, c0 =  model.init_hidden(batch_size)\n",
    "\n",
    "    h0 = h0.to(device)\n",
    "    c0 = c0.to(device)\n",
    "\n",
    "    for batch_idx, batch in enumerate(train_dl):\n",
    "\n",
    "        input_x = batch[0].to(device)\n",
    "        target = batch[1].to(device)\n",
    "\n",
    "        optimizer.zero_grad()\n",
    "        with torch.set_grad_enabled(True):\n",
    "            out, hidden = model(input_x, (h0, c0))\n",
    "            loss = criterion(out, target)\n",
    "            #print(\"Batch {} Loss: {:.4f}\".format(batch_idx, loss.item()))\n",
    "            loss.backward()\n",
    "            optimizer.step()\n",
    "            epoch_loss += loss.item()\n",
    "    avg_loss = epoch_loss / len(train_dl)\n",
    "    print(\"Epoch {} Average Loss: {:.4f}\".format(i, avg_loss))\n",
    "    losses.append(loss.item())"
   ]
  },
  {
   "cell_type": "code",
   "execution_count": 37,
   "id": "a0e494cf",
   "metadata": {},
   "outputs": [
    {
     "data": {
      "text/plain": [
       "[<matplotlib.lines.Line2D at 0x29660ba90>]"
      ]
     },
     "execution_count": 37,
     "metadata": {},
     "output_type": "execute_result"
    },
    {
     "data": {
      "image/png": "[encoded data removed]",
      "text/plain": [
       "<Figure size 640x480 with 1 Axes>"
      ]
     },
     "metadata": {},
     "output_type": "display_data"
    }
   ],
   "source": [
    "plt.plot(losses)"
   ]
  },
  {
   "cell_type": "markdown",
   "id": "e88cc565",
   "metadata": {},
   "source": [
    "Our model couldn't converge at all. Now we will try to balance and modify data before the training"
   ]
  },
  {
   "cell_type": "markdown",
   "id": "0b58e87c",
   "metadata": {},
   "source": [
    "## Data balancing"
   ]
  },
  {
   "cell_type": "code",
   "execution_count": 39,
   "id": "d7919ba4",
   "metadata": {},
   "outputs": [
    {
     "data": {
      "text/plain": [
       "<AxesSubplot: xlabel='class', ylabel='count'>"
      ]
     },
     "execution_count": 39,
     "metadata": {},
     "output_type": "execute_result"
    },
    {
     "data": {
      "image/png": "[encoded data removed]",
      "text/plain": [
       "<Figure size 640x480 with 1 Axes>"
      ]
     },
     "metadata": {},
     "output_type": "display_data"
    }
   ],
   "source": [
    "sns.countplot(data=df, x=\"class\")"
   ]
  },
  {
   "cell_type": "code",
   "execution_count": 40,
   "id": "4c9ad79c",
   "metadata": {},
   "outputs": [
    {
     "data": {
      "text/html": [
       "<div>\n",
       "<style scoped>\n",
       "    .dataframe tbody tr th:only-of-type {\n",
       "        vertical-align: middle;\n",
       "    }\n",
       "\n",
       "    .dataframe tbody tr th {\n",
       "        vertical-align: top;\n",
       "    }\n",
       "\n",
       "    .dataframe thead th {\n",
       "        text-align: right;\n",
       "    }\n",
       "</style>\n",
       "<table border=\"1\" class=\"dataframe\">\n",
       "  <thead>\n",
       "    <tr style=\"text-align: right;\">\n",
       "      <th></th>\n",
       "      <th>count</th>\n",
       "      <th>hate_speech</th>\n",
       "      <th>offensive_language</th>\n",
       "      <th>neither</th>\n",
       "      <th>class</th>\n",
       "      <th>tweet</th>\n",
       "    </tr>\n",
       "  </thead>\n",
       "  <tbody>\n",
       "    <tr>\n",
       "      <th>0</th>\n",
       "      <td>3</td>\n",
       "      <td>0</td>\n",
       "      <td>0</td>\n",
       "      <td>3</td>\n",
       "      <td>2</td>\n",
       "      <td>!!! RT @mayasolovely: As a woman you shouldn't...</td>\n",
       "    </tr>\n",
       "    <tr>\n",
       "      <th>1</th>\n",
       "      <td>3</td>\n",
       "      <td>0</td>\n",
       "      <td>3</td>\n",
       "      <td>0</td>\n",
       "      <td>1</td>\n",
       "      <td>!!!!! RT @mleew17: boy dats cold...tyga dwn ba...</td>\n",
       "    </tr>\n",
       "    <tr>\n",
       "      <th>2</th>\n",
       "      <td>3</td>\n",
       "      <td>0</td>\n",
       "      <td>3</td>\n",
       "      <td>0</td>\n",
       "      <td>1</td>\n",
       "      <td>!!!!!!! RT @UrKindOfBrand Dawg!!!! RT @80sbaby...</td>\n",
       "    </tr>\n",
       "    <tr>\n",
       "      <th>3</th>\n",
       "      <td>3</td>\n",
       "      <td>0</td>\n",
       "      <td>2</td>\n",
       "      <td>1</td>\n",
       "      <td>1</td>\n",
       "      <td>!!!!!!!!! RT @C_G_Anderson: @viva_based she lo...</td>\n",
       "    </tr>\n",
       "    <tr>\n",
       "      <th>4</th>\n",
       "      <td>6</td>\n",
       "      <td>0</td>\n",
       "      <td>6</td>\n",
       "      <td>0</td>\n",
       "      <td>1</td>\n",
       "      <td>!!!!!!!!!!!!! RT @ShenikaRoberts: The shit you...</td>\n",
       "    </tr>\n",
       "    <tr>\n",
       "      <th>...</th>\n",
       "      <td>...</td>\n",
       "      <td>...</td>\n",
       "      <td>...</td>\n",
       "      <td>...</td>\n",
       "      <td>...</td>\n",
       "      <td>...</td>\n",
       "    </tr>\n",
       "    <tr>\n",
       "      <th>24778</th>\n",
       "      <td>3</td>\n",
       "      <td>0</td>\n",
       "      <td>2</td>\n",
       "      <td>1</td>\n",
       "      <td>1</td>\n",
       "      <td>you's a muthaf***in lie &amp;#8220;@LifeAsKing: @2...</td>\n",
       "    </tr>\n",
       "    <tr>\n",
       "      <th>24779</th>\n",
       "      <td>3</td>\n",
       "      <td>0</td>\n",
       "      <td>1</td>\n",
       "      <td>2</td>\n",
       "      <td>2</td>\n",
       "      <td>you've gone and broke the wrong heart baby, an...</td>\n",
       "    </tr>\n",
       "    <tr>\n",
       "      <th>24780</th>\n",
       "      <td>3</td>\n",
       "      <td>0</td>\n",
       "      <td>3</td>\n",
       "      <td>0</td>\n",
       "      <td>1</td>\n",
       "      <td>young buck wanna eat!!.. dat nigguh like I ain...</td>\n",
       "    </tr>\n",
       "    <tr>\n",
       "      <th>24781</th>\n",
       "      <td>6</td>\n",
       "      <td>0</td>\n",
       "      <td>6</td>\n",
       "      <td>0</td>\n",
       "      <td>1</td>\n",
       "      <td>youu got wild bitches tellin you lies</td>\n",
       "    </tr>\n",
       "    <tr>\n",
       "      <th>24782</th>\n",
       "      <td>3</td>\n",
       "      <td>0</td>\n",
       "      <td>0</td>\n",
       "      <td>3</td>\n",
       "      <td>2</td>\n",
       "      <td>~~Ruffled | Ntac Eileen Dahlia - Beautiful col...</td>\n",
       "    </tr>\n",
       "  </tbody>\n",
       "</table>\n",
       "<p>24783 rows × 6 columns</p>\n",
       "</div>"
      ],
      "text/plain": [
       "       count  hate_speech  offensive_language  neither  class  \\\n",
       "0          3            0                   0        3      2   \n",
       "1          3            0                   3        0      1   \n",
       "2          3            0                   3        0      1   \n",
       "3          3            0                   2        1      1   \n",
       "4          6            0                   6        0      1   \n",
       "...      ...          ...                 ...      ...    ...   \n",
       "24778      3            0                   2        1      1   \n",
       "24779      3            0                   1        2      2   \n",
       "24780      3            0                   3        0      1   \n",
       "24781      6            0                   6        0      1   \n",
       "24782      3            0                   0        3      2   \n",
       "\n",
       "                                                   tweet  \n",
       "0      !!! RT @mayasolovely: As a woman you shouldn't...  \n",
       "1      !!!!! RT @mleew17: boy dats cold...tyga dwn ba...  \n",
       "2      !!!!!!! RT @UrKindOfBrand Dawg!!!! RT @80sbaby...  \n",
       "3      !!!!!!!!! RT @C_G_Anderson: @viva_based she lo...  \n",
       "4      !!!!!!!!!!!!! RT @ShenikaRoberts: The shit you...  \n",
       "...                                                  ...  \n",
       "24778  you's a muthaf***in lie &#8220;@LifeAsKing: @2...  \n",
       "24779  you've gone and broke the wrong heart baby, an...  \n",
       "24780  young buck wanna eat!!.. dat nigguh like I ain...  \n",
       "24781              youu got wild bitches tellin you lies  \n",
       "24782  ~~Ruffled | Ntac Eileen Dahlia - Beautiful col...  \n",
       "\n",
       "[24783 rows x 6 columns]"
      ]
     },
     "execution_count": 40,
     "metadata": {},
     "output_type": "execute_result"
    }
   ],
   "source": [
    "df"
   ]
  },
  {
   "cell_type": "code",
   "execution_count": 41,
   "id": "639058e9",
   "metadata": {},
   "outputs": [
    {
     "data": {
      "text/plain": [
       "1    19190\n",
       "2     4163\n",
       "0     1430\n",
       "Name: class, dtype: int64"
      ]
     },
     "execution_count": 41,
     "metadata": {},
     "output_type": "execute_result"
    }
   ],
   "source": [
    "df[\"class\"].value_counts()\n",
    "#undersampling could be the best choice, we have 1430 tweets that was labeled as hate_speech ."
   ]
  },
  {
   "cell_type": "code",
   "execution_count": 42,
   "id": "57e1969e",
   "metadata": {},
   "outputs": [],
   "source": [
    "remove_neither = 4163 - 1430\n",
    "remove_offensive = 19190 - 1430\n",
    "\n",
    "off_df = df[df[\"class\"] == 1] \n",
    "\n",
    "hate_df = df[df[\"class\"] == 0]\n",
    "neither_df = df[df[\"class\"] == 2]\n",
    "\n",
    "neither_drop_indices = np.random.choice(neither_df.index, remove_neither, replace=False)\n",
    "offensive_drop_indices = np.random.choice(off_df.index, remove_offensive, replace=False)\n",
    "\n",
    "neither_undersampled = neither_df.drop(neither_drop_indices)\n",
    "offensive_undersampled = off_df.drop(offensive_drop_indices)"
   ]
  },
  {
   "cell_type": "code",
   "execution_count": 43,
   "id": "5200b189",
   "metadata": {},
   "outputs": [
    {
     "name": "stdout",
     "output_type": "stream",
     "text": [
      "1430\n",
      "1430\n"
     ]
    }
   ],
   "source": [
    "print(len(neither_undersampled))\n",
    "print(len(offensive_undersampled))"
   ]
  },
  {
   "cell_type": "code",
   "execution_count": 44,
   "id": "b5ff46a0",
   "metadata": {},
   "outputs": [
    {
     "data": {
      "text/html": [
       "<div>\n",
       "<style scoped>\n",
       "    .dataframe tbody tr th:only-of-type {\n",
       "        vertical-align: middle;\n",
       "    }\n",
       "\n",
       "    .dataframe tbody tr th {\n",
       "        vertical-align: top;\n",
       "    }\n",
       "\n",
       "    .dataframe thead th {\n",
       "        text-align: right;\n",
       "    }\n",
       "</style>\n",
       "<table border=\"1\" class=\"dataframe\">\n",
       "  <thead>\n",
       "    <tr style=\"text-align: right;\">\n",
       "      <th></th>\n",
       "      <th>count</th>\n",
       "      <th>hate_speech</th>\n",
       "      <th>offensive_language</th>\n",
       "      <th>neither</th>\n",
       "      <th>class</th>\n",
       "      <th>tweet</th>\n",
       "    </tr>\n",
       "  </thead>\n",
       "  <tbody>\n",
       "    <tr>\n",
       "      <th>66</th>\n",
       "      <td>3</td>\n",
       "      <td>0</td>\n",
       "      <td>1</td>\n",
       "      <td>2</td>\n",
       "      <td>2</td>\n",
       "      <td>\"@AllAboutManFeet: http://t.co/3gzUpfuMev\" woo...</td>\n",
       "    </tr>\n",
       "    <tr>\n",
       "      <th>75</th>\n",
       "      <td>3</td>\n",
       "      <td>0</td>\n",
       "      <td>1</td>\n",
       "      <td>2</td>\n",
       "      <td>2</td>\n",
       "      <td>\"@BabyAnimalPics: baby monkey bathtime http://...</td>\n",
       "    </tr>\n",
       "    <tr>\n",
       "      <th>118</th>\n",
       "      <td>3</td>\n",
       "      <td>0</td>\n",
       "      <td>0</td>\n",
       "      <td>3</td>\n",
       "      <td>2</td>\n",
       "      <td>\"@DunderbaIl: I'm an early bird and I'm a nigh...</td>\n",
       "    </tr>\n",
       "    <tr>\n",
       "      <th>122</th>\n",
       "      <td>3</td>\n",
       "      <td>0</td>\n",
       "      <td>0</td>\n",
       "      <td>3</td>\n",
       "      <td>2</td>\n",
       "      <td>\"@FloKid88: As long as the Lakers trash from n...</td>\n",
       "    </tr>\n",
       "    <tr>\n",
       "      <th>158</th>\n",
       "      <td>3</td>\n",
       "      <td>0</td>\n",
       "      <td>1</td>\n",
       "      <td>2</td>\n",
       "      <td>2</td>\n",
       "      <td>\"@KeyshawnSwag: Peel up peel up bring it back ...</td>\n",
       "    </tr>\n",
       "    <tr>\n",
       "      <th>...</th>\n",
       "      <td>...</td>\n",
       "      <td>...</td>\n",
       "      <td>...</td>\n",
       "      <td>...</td>\n",
       "      <td>...</td>\n",
       "      <td>...</td>\n",
       "    </tr>\n",
       "    <tr>\n",
       "      <th>24659</th>\n",
       "      <td>3</td>\n",
       "      <td>0</td>\n",
       "      <td>0</td>\n",
       "      <td>3</td>\n",
       "      <td>2</td>\n",
       "      <td>what a clam shame</td>\n",
       "    </tr>\n",
       "    <tr>\n",
       "      <th>24703</th>\n",
       "      <td>3</td>\n",
       "      <td>0</td>\n",
       "      <td>0</td>\n",
       "      <td>3</td>\n",
       "      <td>2</td>\n",
       "      <td>why they playing trash on ESPN right now.</td>\n",
       "    </tr>\n",
       "    <tr>\n",
       "      <th>24709</th>\n",
       "      <td>3</td>\n",
       "      <td>0</td>\n",
       "      <td>0</td>\n",
       "      <td>3</td>\n",
       "      <td>2</td>\n",
       "      <td>wish I had a brownie or a dab to knock me out rn</td>\n",
       "    </tr>\n",
       "    <tr>\n",
       "      <th>24721</th>\n",
       "      <td>3</td>\n",
       "      <td>0</td>\n",
       "      <td>0</td>\n",
       "      <td>3</td>\n",
       "      <td>2</td>\n",
       "      <td>wth is that playing missy? ........ i mean ser...</td>\n",
       "    </tr>\n",
       "    <tr>\n",
       "      <th>24779</th>\n",
       "      <td>3</td>\n",
       "      <td>0</td>\n",
       "      <td>1</td>\n",
       "      <td>2</td>\n",
       "      <td>2</td>\n",
       "      <td>you've gone and broke the wrong heart baby, an...</td>\n",
       "    </tr>\n",
       "  </tbody>\n",
       "</table>\n",
       "<p>1430 rows × 6 columns</p>\n",
       "</div>"
      ],
      "text/plain": [
       "       count  hate_speech  offensive_language  neither  class  \\\n",
       "66         3            0                   1        2      2   \n",
       "75         3            0                   1        2      2   \n",
       "118        3            0                   0        3      2   \n",
       "122        3            0                   0        3      2   \n",
       "158        3            0                   1        2      2   \n",
       "...      ...          ...                 ...      ...    ...   \n",
       "24659      3            0                   0        3      2   \n",
       "24703      3            0                   0        3      2   \n",
       "24709      3            0                   0        3      2   \n",
       "24721      3            0                   0        3      2   \n",
       "24779      3            0                   1        2      2   \n",
       "\n",
       "                                                   tweet  \n",
       "66     \"@AllAboutManFeet: http://t.co/3gzUpfuMev\" woo...  \n",
       "75     \"@BabyAnimalPics: baby monkey bathtime http://...  \n",
       "118    \"@DunderbaIl: I'm an early bird and I'm a nigh...  \n",
       "122    \"@FloKid88: As long as the Lakers trash from n...  \n",
       "158    \"@KeyshawnSwag: Peel up peel up bring it back ...  \n",
       "...                                                  ...  \n",
       "24659                                  what a clam shame  \n",
       "24703          why they playing trash on ESPN right now.  \n",
       "24709   wish I had a brownie or a dab to knock me out rn  \n",
       "24721  wth is that playing missy? ........ i mean ser...  \n",
       "24779  you've gone and broke the wrong heart baby, an...  \n",
       "\n",
       "[1430 rows x 6 columns]"
      ]
     },
     "execution_count": 44,
     "metadata": {},
     "output_type": "execute_result"
    }
   ],
   "source": [
    "neither_undersampled"
   ]
  },
  {
   "cell_type": "code",
   "execution_count": 45,
   "id": "d3a79eb2",
   "metadata": {},
   "outputs": [],
   "source": [
    "balanced_train_df = pd.concat([hate_df, offensive_undersampled, neither_undersampled])"
   ]
  },
  {
   "cell_type": "code",
   "execution_count": 46,
   "id": "b7b4179d",
   "metadata": {},
   "outputs": [
    {
     "data": {
      "text/plain": [
       "0    1430\n",
       "1    1430\n",
       "2    1430\n",
       "Name: class, dtype: int64"
      ]
     },
     "execution_count": 46,
     "metadata": {},
     "output_type": "execute_result"
    }
   ],
   "source": [
    "balanced_train_df[\"class\"].value_counts()"
   ]
  },
  {
   "cell_type": "code",
   "execution_count": 47,
   "id": "6cde169b",
   "metadata": {},
   "outputs": [
    {
     "name": "stdout",
     "output_type": "stream",
     "text": [
      "([1, 3, 3, 3, 4, 5, 6, 7, 8, 9, 10, 11, 12, 13, 14, 15, 16, 17, 18, 19, 20, 21, 6, 7, 22, 9, 10, 23, 24, 25, 26, 27, 28, 2, 0, 0, 0, 0, 0, 0, 0, 0, 0, 0, 0, 0, 0, 0, 0, 0, 0, 0, 0, 0, 0, 0, 0, 0, 0, 0, 0, 0, 0, 0], 2)\n",
      "([1, 3, 3, 3, 3, 3, 4, 5, 29, 30, 31, 28, 32, 33, 34, 35, 36, 37, 38, 39, 25, 40, 41, 3, 3, 2, 0, 0, 0, 0, 0, 0, 0, 0, 0, 0, 0, 0, 0, 0, 0, 0, 0, 0, 0, 0, 0, 0, 0, 0, 0, 0, 0, 0, 0, 0, 0, 0, 0, 0, 0, 0, 0, 0], 1)\n",
      "([1, 3, 3, 3, 3, 3, 3, 3, 4, 42, 3, 3, 3, 3, 4, 5, 9, 43, 44, 7, 45, 46, 47, 48, 49, 50, 51, 9, 52, 53, 6, 54, 2, 0, 0, 0, 0, 0, 0, 0, 0, 0, 0, 0, 0, 0, 0, 0, 0, 0, 0, 0, 0, 0, 0, 0, 0, 0, 0, 0, 0, 0, 0, 0], 1)\n"
     ]
    }
   ],
   "source": [
    "for i in train_encoded[:3]:\n",
    "    print(i)"
   ]
  },
  {
   "cell_type": "code",
   "execution_count": 59,
   "id": "0fd98e07",
   "metadata": {},
   "outputs": [],
   "source": [
    "balanced_clean_df = balanced_train_df.drop(['count','hate_speech', 'offensive_language', 'neither'],axis=1)"
   ]
  },
  {
   "cell_type": "code",
   "execution_count": 60,
   "id": "7820844c",
   "metadata": {},
   "outputs": [
    {
     "data": {
      "text/plain": [
       "[(0, ['``', ':', 'queer', \"''\", 'gaywad']),\n",
       " (0,\n",
       "  ['``',\n",
       "   ':',\n",
       "   'alsarabsss',\n",
       "   \"''\",\n",
       "   'hes',\n",
       "   'a',\n",
       "   'beaner',\n",
       "   'smh',\n",
       "   'you',\n",
       "   'can',\n",
       "   'tell',\n",
       "   'hes',\n",
       "   'a',\n",
       "   'mexican']),\n",
       " (0,\n",
       "  ['``',\n",
       "   ':',\n",
       "   'you',\n",
       "   \"'re\",\n",
       "   'fucking',\n",
       "   'gay',\n",
       "   ',',\n",
       "   'blacklisted',\n",
       "   'hoe',\n",
       "   \"''\",\n",
       "   'holding',\n",
       "   'out',\n",
       "   'for',\n",
       "   '#',\n",
       "   'tehgodclan',\n",
       "   'anyway'])]"
      ]
     },
     "execution_count": 60,
     "metadata": {},
     "output_type": "execute_result"
    }
   ],
   "source": [
    "balanced_clean_df = [(row['class'], word_tokenize(remove_links_mentions(row['tweet']))) for index, row in balanced_clean_df.iterrows()]\n",
    "balanced_clean_df[:3]"
   ]
  },
  {
   "cell_type": "code",
   "execution_count": 61,
   "id": "b8bd8129",
   "metadata": {},
   "outputs": [],
   "source": [
    "index2word = [\"<PAD>\", \"<SOS>\", \"<EOS>\"]\n",
    "\n",
    "for ds in [balanced_clean_df]:\n",
    "    for class_, tweet in ds:\n",
    "        for token in tweet:\n",
    "            if token not in index2word:\n",
    "                index2word.append(token)"
   ]
  },
  {
   "cell_type": "code",
   "execution_count": 62,
   "id": "9ba93624",
   "metadata": {},
   "outputs": [],
   "source": [
    "word2index = {token: idx for idx, token in enumerate(index2word)}"
   ]
  },
  {
   "cell_type": "code",
   "execution_count": 63,
   "id": "18c46304",
   "metadata": {},
   "outputs": [
    {
     "data": {
      "text/plain": [
       "120"
      ]
     },
     "execution_count": 63,
     "metadata": {},
     "output_type": "execute_result"
    }
   ],
   "source": [
    "word2index[\"nigga\"]"
   ]
  },
  {
   "cell_type": "code",
   "execution_count": 79,
   "id": "371a809d",
   "metadata": {},
   "outputs": [],
   "source": [
    "len(index2word)\n",
    "seq_length = 32"
   ]
  },
  {
   "cell_type": "code",
   "execution_count": 80,
   "id": "25efec8e",
   "metadata": {},
   "outputs": [],
   "source": [
    "train_encoded = [(encode_and_pad(tweet, seq_length), label) for label, tweet in balanced_clean_df]"
   ]
  },
  {
   "cell_type": "code",
   "execution_count": 81,
   "id": "a34a29f6",
   "metadata": {},
   "outputs": [],
   "source": [
    "X = np.array([elem[0] for elem in train_encoded])\n",
    "y = np.array([elem[1] for elem in train_encoded])\n",
    "train_x,test_x,train_y,test_y = train_test_split(X,y,test_size=0.15 ,random_state=10)"
   ]
  },
  {
   "cell_type": "code",
   "execution_count": 82,
   "id": "107b7f78",
   "metadata": {},
   "outputs": [],
   "source": [
    "batch_size = 32\n",
    "\n",
    "\n",
    "\n",
    "\n",
    "train_ds = TensorDataset(torch.from_numpy(train_x), torch.from_numpy(train_y))\n",
    "test_ds = TensorDataset(torch.from_numpy(test_x), torch.from_numpy(test_y))\n",
    "\n",
    "\n",
    "train_dl = DataLoader(train_ds, shuffle=True, batch_size=batch_size, drop_last=True)\n",
    "test_dl = DataLoader(test_ds, shuffle=True, batch_size=batch_size, drop_last=True)\n",
    "\n",
    "model = BiLSTM_SentimentAnalysis(len(word2index), 64, 32, 0.2)\n",
    "model = model.to(device)\n",
    "criterion = nn.CrossEntropyLoss()\n",
    "optimizer = torch.optim.Adam(model.parameters(), lr = 3e-4)\n"
   ]
  },
  {
   "cell_type": "code",
   "execution_count": 83,
   "id": "9decc4ca",
   "metadata": {},
   "outputs": [
    {
     "name": "stdout",
     "output_type": "stream",
     "text": [
      "32\n"
     ]
    }
   ],
   "source": [
    "for batch_idx, batch in enumerate(train_dl):\n",
    "    print(len(batch[1]))\n",
    "    break"
   ]
  },
  {
   "cell_type": "code",
   "execution_count": 84,
   "id": "b4969931",
   "metadata": {},
   "outputs": [
    {
     "name": "stdout",
     "output_type": "stream",
     "text": [
      "Epoch 1\n",
      "Epoch 1 Average Loss: 1.0979\n",
      "Epoch 2\n",
      "Epoch 2 Average Loss: 1.0974\n",
      "Epoch 3\n",
      "Epoch 3 Average Loss: 1.0976\n",
      "Epoch 4\n",
      "Epoch 4 Average Loss: 1.0967\n",
      "Epoch 5\n",
      "Epoch 5 Average Loss: 1.0970\n",
      "Epoch 6\n",
      "Epoch 6 Average Loss: 1.0974\n",
      "Epoch 7\n",
      "Epoch 7 Average Loss: 1.0974\n",
      "Epoch 8\n",
      "Epoch 8 Average Loss: 1.0963\n",
      "Epoch 9\n",
      "Epoch 9 Average Loss: 1.0964\n",
      "Epoch 10\n",
      "Epoch 10 Average Loss: 1.0969\n",
      "Epoch 11\n",
      "Epoch 11 Average Loss: 1.0970\n",
      "Epoch 12\n",
      "Epoch 12 Average Loss: 1.0966\n",
      "Epoch 13\n",
      "Epoch 13 Average Loss: 1.0965\n",
      "Epoch 14\n",
      "Epoch 14 Average Loss: 1.0960\n",
      "Epoch 15\n",
      "Epoch 15 Average Loss: 1.0978\n",
      "Epoch 16\n",
      "Epoch 16 Average Loss: 1.0971\n",
      "Epoch 17\n",
      "Epoch 17 Average Loss: 1.0965\n",
      "Epoch 18\n",
      "Epoch 18 Average Loss: 1.0960\n",
      "Epoch 19\n",
      "Epoch 19 Average Loss: 1.0971\n",
      "Epoch 20\n",
      "Epoch 20 Average Loss: 1.0968\n",
      "Epoch 21\n",
      "Epoch 21 Average Loss: 1.0963\n",
      "Epoch 22\n",
      "Epoch 22 Average Loss: 1.0966\n",
      "Epoch 23\n",
      "Epoch 23 Average Loss: 1.0972\n",
      "Epoch 24\n",
      "Epoch 24 Average Loss: 1.0975\n",
      "Epoch 25\n",
      "Epoch 25 Average Loss: 1.0976\n",
      "Epoch 26\n",
      "Epoch 26 Average Loss: 1.0965\n",
      "Epoch 27\n",
      "Epoch 27 Average Loss: 1.0962\n",
      "Epoch 28\n",
      "Epoch 28 Average Loss: 1.0959\n",
      "Epoch 29\n",
      "Epoch 29 Average Loss: 1.0968\n",
      "Epoch 30\n",
      "Epoch 30 Average Loss: 1.0955\n",
      "Epoch 31\n",
      "Epoch 31 Average Loss: 1.0964\n",
      "Epoch 32\n",
      "Epoch 32 Average Loss: 1.0967\n",
      "Epoch 33\n",
      "Epoch 33 Average Loss: 1.0951\n",
      "Epoch 34\n",
      "Epoch 34 Average Loss: 1.0958\n",
      "Epoch 35\n",
      "Epoch 35 Average Loss: 1.0961\n",
      "Epoch 36\n",
      "Epoch 36 Average Loss: 1.0959\n",
      "Epoch 37\n",
      "Epoch 37 Average Loss: 1.0959\n",
      "Epoch 38\n",
      "Epoch 38 Average Loss: 1.0966\n",
      "Epoch 39\n",
      "Epoch 39 Average Loss: 1.0964\n",
      "Epoch 40\n",
      "Epoch 40 Average Loss: 1.0967\n",
      "Epoch 41\n",
      "Epoch 41 Average Loss: 1.0957\n",
      "Epoch 42\n",
      "Epoch 42 Average Loss: 1.0956\n",
      "Epoch 43\n",
      "Epoch 43 Average Loss: 1.0970\n",
      "Epoch 44\n",
      "Epoch 44 Average Loss: 1.0955\n",
      "Epoch 45\n",
      "Epoch 45 Average Loss: 1.0960\n",
      "Epoch 46\n",
      "Epoch 46 Average Loss: 1.0965\n",
      "Epoch 47\n",
      "Epoch 47 Average Loss: 1.0961\n",
      "Epoch 48\n",
      "Epoch 48 Average Loss: 1.0960\n",
      "Epoch 49\n",
      "Epoch 49 Average Loss: 1.0961\n",
      "Epoch 50\n",
      "Epoch 50 Average Loss: 1.0968\n",
      "Epoch 51\n",
      "Epoch 51 Average Loss: 1.0962\n",
      "Epoch 52\n",
      "Epoch 52 Average Loss: 1.0954\n",
      "Epoch 53\n",
      "Epoch 53 Average Loss: 1.0963\n",
      "Epoch 54\n",
      "Epoch 54 Average Loss: 1.0966\n",
      "Epoch 55\n",
      "Epoch 55 Average Loss: 1.0957\n",
      "Epoch 56\n",
      "Epoch 56 Average Loss: 1.0960\n",
      "Epoch 57\n",
      "Epoch 57 Average Loss: 1.0956\n",
      "Epoch 58\n",
      "Epoch 58 Average Loss: 1.0959\n",
      "Epoch 59\n",
      "Epoch 59 Average Loss: 1.0958\n",
      "Epoch 60\n",
      "Epoch 60 Average Loss: 1.0960\n",
      "Epoch 61\n",
      "Epoch 61 Average Loss: 1.0963\n",
      "Epoch 62\n",
      "Epoch 62 Average Loss: 1.0962\n",
      "Epoch 63\n",
      "Epoch 63 Average Loss: 1.0962\n",
      "Epoch 64\n",
      "Epoch 64 Average Loss: 1.0965\n",
      "Epoch 65\n",
      "Epoch 65 Average Loss: 1.0957\n",
      "Epoch 66\n",
      "Epoch 66 Average Loss: 1.0963\n",
      "Epoch 67\n",
      "Epoch 67 Average Loss: 1.0962\n",
      "Epoch 68\n",
      "Epoch 68 Average Loss: 1.0966\n",
      "Epoch 69\n",
      "Epoch 69 Average Loss: 1.0958\n",
      "Epoch 70\n",
      "Epoch 70 Average Loss: 1.0960\n",
      "Epoch 71\n",
      "Epoch 71 Average Loss: 1.0962\n",
      "Epoch 72\n",
      "Epoch 72 Average Loss: 1.0959\n",
      "Epoch 73\n",
      "Epoch 73 Average Loss: 1.0959\n",
      "Epoch 74\n",
      "Epoch 74 Average Loss: 1.0971\n",
      "Epoch 75\n",
      "Epoch 75 Average Loss: 1.0960\n",
      "Epoch 76\n",
      "Epoch 76 Average Loss: 1.0965\n",
      "Epoch 77\n",
      "Epoch 77 Average Loss: 1.0962\n",
      "Epoch 78\n",
      "Epoch 78 Average Loss: 1.0965\n",
      "Epoch 79\n",
      "Epoch 79 Average Loss: 1.0963\n",
      "Epoch 80\n",
      "Epoch 80 Average Loss: 1.0962\n",
      "Epoch 81\n",
      "Epoch 81 Average Loss: 1.0961\n",
      "Epoch 82\n",
      "Epoch 82 Average Loss: 1.0968\n",
      "Epoch 83\n",
      "Epoch 83 Average Loss: 1.0958\n",
      "Epoch 84\n",
      "Epoch 84 Average Loss: 1.0958\n",
      "Epoch 85\n",
      "Epoch 85 Average Loss: 1.0963\n",
      "Epoch 86\n",
      "Epoch 86 Average Loss: 1.0962\n",
      "Epoch 87\n",
      "Epoch 87 Average Loss: 1.0960\n",
      "Epoch 88\n",
      "Epoch 88 Average Loss: 1.0958\n",
      "Epoch 89\n",
      "Epoch 89 Average Loss: 1.0959\n",
      "Epoch 90\n",
      "Epoch 90 Average Loss: 1.0953\n",
      "Epoch 91\n",
      "Epoch 91 Average Loss: 1.0959\n",
      "Epoch 92\n",
      "Epoch 92 Average Loss: 1.0964\n",
      "Epoch 93\n",
      "Epoch 93 Average Loss: 1.0953\n",
      "Epoch 94\n",
      "Epoch 94 Average Loss: 1.0955\n",
      "Epoch 95\n",
      "Epoch 95 Average Loss: 1.0954\n",
      "Epoch 96\n",
      "Epoch 96 Average Loss: 1.0957\n",
      "Epoch 97\n",
      "Epoch 97 Average Loss: 1.0956\n",
      "Epoch 98\n",
      "Epoch 98 Average Loss: 1.0956\n",
      "Epoch 99\n",
      "Epoch 99 Average Loss: 1.0950\n",
      "Epoch 100\n",
      "Epoch 100 Average Loss: 1.0956\n",
      "Epoch 101\n",
      "Epoch 101 Average Loss: 1.0965\n",
      "Epoch 102\n",
      "Epoch 102 Average Loss: 1.0972\n",
      "Epoch 103\n",
      "Epoch 103 Average Loss: 1.0964\n",
      "Epoch 104\n",
      "Epoch 104 Average Loss: 1.0961\n",
      "Epoch 105\n",
      "Epoch 105 Average Loss: 1.0949\n",
      "Epoch 106\n",
      "Epoch 106 Average Loss: 1.0945\n",
      "Epoch 107\n",
      "Epoch 107 Average Loss: 1.0953\n",
      "Epoch 108\n",
      "Epoch 108 Average Loss: 1.0960\n",
      "Epoch 109\n",
      "Epoch 109 Average Loss: 1.0959\n",
      "Epoch 110\n",
      "Epoch 110 Average Loss: 1.0963\n",
      "Epoch 111\n",
      "Epoch 111 Average Loss: 1.0950\n",
      "Epoch 112\n",
      "Epoch 112 Average Loss: 1.0960\n",
      "Epoch 113\n",
      "Epoch 113 Average Loss: 1.0961\n",
      "Epoch 114\n",
      "Epoch 114 Average Loss: 1.0960\n",
      "Epoch 115\n",
      "Epoch 115 Average Loss: 1.0961\n",
      "Epoch 116\n",
      "Epoch 116 Average Loss: 1.0952\n",
      "Epoch 117\n",
      "Epoch 117 Average Loss: 1.0950\n",
      "Epoch 118\n",
      "Epoch 118 Average Loss: 1.0957\n",
      "Epoch 119\n",
      "Epoch 119 Average Loss: 1.0958\n",
      "Epoch 120\n",
      "Epoch 120 Average Loss: 1.0961\n",
      "Epoch 121\n",
      "Epoch 121 Average Loss: 1.0959\n",
      "Epoch 122\n",
      "Epoch 122 Average Loss: 1.0961\n",
      "Epoch 123\n",
      "Epoch 123 Average Loss: 1.0962\n",
      "Epoch 124\n",
      "Epoch 124 Average Loss: 1.0955\n",
      "Epoch 125\n",
      "Epoch 125 Average Loss: 1.0957\n",
      "Epoch 126\n",
      "Epoch 126 Average Loss: 1.0963\n",
      "Epoch 127\n",
      "Epoch 127 Average Loss: 1.0961\n",
      "Epoch 128\n",
      "Epoch 128 Average Loss: 1.0963\n",
      "Epoch 129\n",
      "Epoch 129 Average Loss: 1.0964\n",
      "Epoch 130\n",
      "Epoch 130 Average Loss: 1.0962\n",
      "Epoch 131\n",
      "Epoch 131 Average Loss: 1.0975\n",
      "Epoch 132\n",
      "Epoch 132 Average Loss: 1.0961\n",
      "Epoch 133\n",
      "Epoch 133 Average Loss: 1.0959\n",
      "Epoch 134\n",
      "Epoch 134 Average Loss: 1.0962\n",
      "Epoch 135\n",
      "Epoch 135 Average Loss: 1.0965\n",
      "Epoch 136\n",
      "Epoch 136 Average Loss: 1.0958\n",
      "Epoch 137\n",
      "Epoch 137 Average Loss: 1.0964\n",
      "Epoch 138\n",
      "Epoch 138 Average Loss: 1.0962\n",
      "Epoch 139\n",
      "Epoch 139 Average Loss: 1.0961\n",
      "Epoch 140\n",
      "Epoch 140 Average Loss: 1.0970\n",
      "Epoch 141\n",
      "Epoch 141 Average Loss: 1.0957\n",
      "Epoch 142\n",
      "Epoch 142 Average Loss: 1.0963\n",
      "Epoch 143\n",
      "Epoch 143 Average Loss: 1.0963\n",
      "Epoch 144\n",
      "Epoch 144 Average Loss: 1.0960\n",
      "Epoch 145\n",
      "Epoch 145 Average Loss: 1.0953\n",
      "Epoch 146\n",
      "Epoch 146 Average Loss: 1.0962\n",
      "Epoch 147\n",
      "Epoch 147 Average Loss: 1.0958\n",
      "Epoch 148\n",
      "Epoch 148 Average Loss: 1.0966\n",
      "Epoch 149\n",
      "Epoch 149 Average Loss: 1.0956\n",
      "Epoch 150\n",
      "Epoch 150 Average Loss: 1.0959\n",
      "Epoch 151\n",
      "Epoch 151 Average Loss: 1.0958\n",
      "Epoch 152\n",
      "Epoch 152 Average Loss: 1.0958\n",
      "Epoch 153\n",
      "Epoch 153 Average Loss: 1.0962\n",
      "Epoch 154\n",
      "Epoch 154 Average Loss: 1.0959\n",
      "Epoch 155\n",
      "Epoch 155 Average Loss: 1.0949\n",
      "Epoch 156\n",
      "Epoch 156 Average Loss: 1.0954\n",
      "Epoch 157\n",
      "Epoch 157 Average Loss: 1.0954\n",
      "Epoch 158\n",
      "Epoch 158 Average Loss: 1.0959\n",
      "Epoch 159\n",
      "Epoch 159 Average Loss: 1.0964\n",
      "Epoch 160\n",
      "Epoch 160 Average Loss: 1.0961\n",
      "Epoch 161\n",
      "Epoch 161 Average Loss: 1.0962\n",
      "Epoch 162\n",
      "Epoch 162 Average Loss: 1.0960\n",
      "Epoch 163\n",
      "Epoch 163 Average Loss: 1.0963\n",
      "Epoch 164\n",
      "Epoch 164 Average Loss: 1.0953\n",
      "Epoch 165\n",
      "Epoch 165 Average Loss: 1.0963\n",
      "Epoch 166\n",
      "Epoch 166 Average Loss: 1.0963\n",
      "Epoch 167\n",
      "Epoch 167 Average Loss: 1.0963\n",
      "Epoch 168\n",
      "Epoch 168 Average Loss: 1.0964\n",
      "Epoch 169\n",
      "Epoch 169 Average Loss: 1.0960\n",
      "Epoch 170\n",
      "Epoch 170 Average Loss: 1.0960\n",
      "Epoch 171\n",
      "Epoch 171 Average Loss: 1.0962\n",
      "Epoch 172\n",
      "Epoch 172 Average Loss: 1.0958\n",
      "Epoch 173\n",
      "Epoch 173 Average Loss: 1.0959\n",
      "Epoch 174\n",
      "Epoch 174 Average Loss: 1.0949\n",
      "Epoch 175\n",
      "Epoch 175 Average Loss: 1.0952\n",
      "Epoch 176\n",
      "Epoch 176 Average Loss: 1.0954\n",
      "Epoch 177\n",
      "Epoch 177 Average Loss: 1.0948\n",
      "Epoch 178\n",
      "Epoch 178 Average Loss: 1.0950\n",
      "Epoch 179\n",
      "Epoch 179 Average Loss: 1.0960\n",
      "Epoch 180\n",
      "Epoch 180 Average Loss: 1.0953\n",
      "Epoch 181\n",
      "Epoch 181 Average Loss: 1.0958\n",
      "Epoch 182\n",
      "Epoch 182 Average Loss: 1.0954\n",
      "Epoch 183\n",
      "Epoch 183 Average Loss: 1.0951\n",
      "Epoch 184\n",
      "Epoch 184 Average Loss: 1.0960\n",
      "Epoch 185\n",
      "Epoch 185 Average Loss: 1.0956\n",
      "Epoch 186\n",
      "Epoch 186 Average Loss: 1.0963\n",
      "Epoch 187\n",
      "Epoch 187 Average Loss: 1.0966\n",
      "Epoch 188\n",
      "Epoch 188 Average Loss: 1.0969\n",
      "Epoch 189\n",
      "Epoch 189 Average Loss: 1.0980\n",
      "Epoch 190\n",
      "Epoch 190 Average Loss: 1.0983\n",
      "Epoch 191\n",
      "Epoch 191 Average Loss: 1.0972\n",
      "Epoch 192\n",
      "Epoch 192 Average Loss: 1.0971\n",
      "Epoch 193\n",
      "Epoch 193 Average Loss: 1.0963\n",
      "Epoch 194\n",
      "Epoch 194 Average Loss: 1.0962\n",
      "Epoch 195\n",
      "Epoch 195 Average Loss: 1.0972\n",
      "Epoch 196\n",
      "Epoch 196 Average Loss: 1.0964\n",
      "Epoch 197\n",
      "Epoch 197 Average Loss: 1.0967\n",
      "Epoch 198\n",
      "Epoch 198 Average Loss: 1.0965\n",
      "Epoch 199\n",
      "Epoch 199 Average Loss: 1.0965\n",
      "Epoch 200\n",
      "Epoch 200 Average Loss: 1.0958\n"
     ]
    }
   ],
   "source": [
    "epochs = 200\n",
    "losses = []\n",
    "i = 0\n",
    "for e in range(epochs):\n",
    "    i += 1\n",
    "    epoch_loss = 0.0\n",
    "    print(\"Epoch {}\".format(i))\n",
    "    h0, c0 =  model.init_hidden(batch_size)\n",
    "\n",
    "    h0 = h0.to(device)\n",
    "    c0 = c0.to(device)\n",
    "\n",
    "    for batch_idx, batch in enumerate(train_dl):\n",
    "\n",
    "        input_x = batch[0].to(device)\n",
    "        target = batch[1].to(device)\n",
    "\n",
    "        optimizer.zero_grad()\n",
    "        with torch.set_grad_enabled(True):\n",
    "            out, hidden = model(input_x, (h0, c0))\n",
    "            loss = criterion(out, target)\n",
    "            #print(\"Batch {} Loss: {:.4f}\".format(batch_idx, loss.item()))\n",
    "            loss.backward()\n",
    "            optimizer.step()\n",
    "            epoch_loss += loss.item()\n",
    "    avg_loss = epoch_loss / len(train_dl)\n",
    "    print(\"Epoch {} Average Loss: {:.4f}\".format(i, avg_loss))\n",
    "    losses.append(loss.item())"
   ]
  },
  {
   "cell_type": "code",
   "execution_count": 85,
   "id": "cbe73d51",
   "metadata": {},
   "outputs": [
    {
     "data": {
      "text/plain": [
       "[<matplotlib.lines.Line2D at 0x2983a1910>]"
      ]
     },
     "execution_count": 85,
     "metadata": {},
     "output_type": "execute_result"
    },
    {
     "data": {
      "image/png": "[encoded data removed]",
      "text/plain": [
       "<Figure size 640x480 with 1 Axes>"
      ]
     },
     "metadata": {},
     "output_type": "display_data"
    }
   ],
   "source": [
    "plt.plot(losses)"
   ]
  },
  {
   "cell_type": "markdown",
   "id": "54e030df",
   "metadata": {},
   "source": [
    "Our model couldn't converge again. Probable causes should be\n",
    "        \n",
    "        "
   ]
  }
 ],
 "metadata": {
  "kernelspec": {
   "display_name": "Python 3 (ipykernel)",
   "language": "python",
   "name": "python3"
  },
  "language_info": {
   "codemirror_mode": {
    "name": "ipython",
    "version": 3
   },
   "file_extension": ".py",
   "mimetype": "text/x-python",
   "name": "python",
   "nbconvert_exporter": "python",
   "pygments_lexer": "ipython3",
   "version": "3.9.13"
  }
 },
 "nbformat": 4,
 "nbformat_minor": 5
}
